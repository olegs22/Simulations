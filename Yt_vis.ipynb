{
 "cells": [
  {
   "cell_type": "code",
   "execution_count": 1,
   "metadata": {
    "collapsed": false
   },
   "outputs": [
    {
     "name": "stderr",
     "output_type": "stream",
     "text": [
      "/Users/Oleg/yt-x86_64/lib/python2.7/site-packages/matplotlib-1.5.1-py2.7-macosx-10.4-x86_64.egg/matplotlib/font_manager.py:273: UserWarning: Matplotlib is building the font cache using fc-list. This may take a moment.\n",
      "  warnings.warn('Matplotlib is building the font cache using fc-list. This may take a moment.')\n"
     ]
    }
   ],
   "source": [
    "import yt\n",
    "import yt.units as unit\n",
    "import matplotlib.pyplot as plt\n",
    "from yt.analysis_modules.halo_analysis.api import *"
   ]
  },
  {
   "cell_type": "code",
   "execution_count": 2,
   "metadata": {
    "collapsed": false
   },
   "outputs": [
    {
     "name": "stdout",
     "output_type": "stream",
     "text": [
      "Populating the interactive namespace from numpy and matplotlib\n"
     ]
    }
   ],
   "source": [
    "%pylab inline"
   ]
  },
  {
   "cell_type": "code",
   "execution_count": 3,
   "metadata": {
    "collapsed": true
   },
   "outputs": [],
   "source": [
    "path='/Users/Oleg/Rockstar/'   ##Put here the directory where to find the file"
   ]
  },
  {
   "cell_type": "code",
   "execution_count": 4,
   "metadata": {
    "collapsed": false
   },
   "outputs": [
    {
     "name": "stderr",
     "output_type": "stream",
     "text": [
      "yt : [INFO     ] 2017-02-28 12:59:36,116 Calculating time from 1.000e+00 to be 4.250e+17 seconds\n",
      "yt : [INFO     ] 2017-02-28 12:59:36,117 Assuming length units are in kpc/h (comoving)\n",
      "yt : [INFO     ] 2017-02-28 12:59:36,160 Parameters: current_time              = 4.2498606916e+17 s\n",
      "yt : [INFO     ] 2017-02-28 12:59:36,161 Parameters: domain_dimensions         = [2 2 2]\n",
      "yt : [INFO     ] 2017-02-28 12:59:36,162 Parameters: domain_left_edge          = [ 0.  0.  0.]\n",
      "yt : [INFO     ] 2017-02-28 12:59:36,164 Parameters: domain_right_edge         = [ 50000.  50000.  50000.]\n",
      "yt : [INFO     ] 2017-02-28 12:59:36,165 Parameters: cosmological_simulation   = 1\n",
      "yt : [INFO     ] 2017-02-28 12:59:36,165 Parameters: current_redshift          = 0.0\n",
      "yt : [INFO     ] 2017-02-28 12:59:36,166 Parameters: omega_lambda              = 0.7\n",
      "yt : [INFO     ] 2017-02-28 12:59:36,166 Parameters: omega_matter              = 0.3\n",
      "yt : [INFO     ] 2017-02-28 12:59:36,167 Parameters: hubble_constant           = 0.7\n"
     ]
    }
   ],
   "source": [
    "ds1=yt.GadgetDataset(path+\"snapshot_100\")   ##Add name of file"
   ]
  },
  {
   "cell_type": "code",
   "execution_count": 5,
   "metadata": {
    "collapsed": false
   },
   "outputs": [
    {
     "name": "stderr",
     "output_type": "stream",
     "text": [
      "yt : [INFO     ] 2017-02-28 12:59:36,179 Allocating for 2.097e+06 particles (index particle type 'all')\n",
      "yt : [INFO     ] 2017-02-28 12:59:36,554 Identified 1.469e+05 octs\n",
      "yt : [INFO     ] 2017-02-28 12:59:37,033 xlim = 0.000000 50000.000000\n",
      "yt : [INFO     ] 2017-02-28 12:59:37,034 ylim = 0.000000 50000.000000\n",
      "yt : [INFO     ] 2017-02-28 12:59:37,038 xlim = 0.000000 50000.000000\n",
      "yt : [INFO     ] 2017-02-28 12:59:37,040 ylim = 0.000000 50000.000000\n",
      "yt : [INFO     ] 2017-02-28 12:59:37,043 Splatting (('all', 'particle_mass')) onto a 800 by 800 mesh\n"
     ]
    }
   ],
   "source": [
    "p1 = yt.ParticlePlot(ds1,'particle_position_x', 'particle_position_y', 'particle_mass')"
   ]
  },
  {
   "cell_type": "code",
   "execution_count": null,
   "metadata": {
    "collapsed": false
   },
   "outputs": [],
   "source": [
    "p1.set_axes_unit('Mpc')\n",
    "p1.set_unit('particle_mass', 'Msun/h')\n"
   ]
  },
  {
   "cell_type": "code",
   "execution_count": 7,
   "metadata": {
    "collapsed": false
   },
   "outputs": [
    {
     "name": "stderr",
     "output_type": "stream",
     "text": [
      "yt : [INFO     ] 2017-02-28 12:59:39,934 Parameters: current_time              = 4.24986071675e+17 s\n",
      "yt : [INFO     ] 2017-02-28 12:59:39,935 Parameters: domain_dimensions         = [2 2 2]\n",
      "yt : [INFO     ] 2017-02-28 12:59:39,939 Parameters: domain_left_edge          = [ 0.  0.  0.]\n",
      "yt : [INFO     ] 2017-02-28 12:59:39,940 Parameters: domain_right_edge         = [ 50.  50.  50.]\n",
      "yt : [INFO     ] 2017-02-28 12:59:39,942 Parameters: cosmological_simulation   = 1\n",
      "yt : [INFO     ] 2017-02-28 12:59:39,943 Parameters: current_redshift          = 0.0\n",
      "yt : [INFO     ] 2017-02-28 12:59:39,944 Parameters: omega_lambda              = 0.699999988079\n",
      "yt : [INFO     ] 2017-02-28 12:59:39,945 Parameters: omega_matter              = 0.300000011921\n",
      "yt : [INFO     ] 2017-02-28 12:59:39,946 Parameters: hubble_constant           = 0.699999988079\n"
     ]
    }
   ],
   "source": [
    "halos  = yt.load(path+'halos_0.0.bin')"
   ]
  },
  {
   "cell_type": "code",
   "execution_count": 8,
   "metadata": {
    "collapsed": false
   },
   "outputs": [
    {
     "name": "stderr",
     "output_type": "stream",
     "text": [
      "yt : [INFO     ] 2017-02-28 12:59:39,953 Allocating for 3.102e+03 particles (index particle type 'all')\n",
      "yt : [INFO     ] 2017-02-28 12:59:39,964 Identified 1.433e+03 octs\n"
     ]
    }
   ],
   "source": [
    "hc = HaloCatalog(halos_ds = halos)\n",
    "hc.load()"
   ]
  },
  {
   "cell_type": "code",
   "execution_count": null,
   "metadata": {
    "collapsed": false
   },
   "outputs": [],
   "source": [
    "p2 = yt.ParticlePlot(ds1,'particle_position_x', 'particle_position_y', 'particle_mass')\n",
    "p2.annotate_halos(hc)\n",
    "p2.set_axes_unit('Mpc')\n",
    "p2.set_unit('particle_mass', 'Msun/h')\n"
   ]
  },
  {
   "cell_type": "code",
   "execution_count": 10,
   "metadata": {
    "collapsed": false
   },
   "outputs": [],
   "source": [
    "import tempfile\n",
    "import shutil\n",
    "import os\n",
    "\n",
    "tmpdir = tempfile.mkdtemp()"
   ]
  },
  {
   "cell_type": "code",
   "execution_count": 11,
   "metadata": {
    "collapsed": false
   },
   "outputs": [],
   "source": [
    "hc2 = HaloCatalog(data_ds = ds1, halos_ds= halos, \n",
    "                  output_dir = os.path.join(tmpdir,'halo_catalog'))"
   ]
  },
  {
   "cell_type": "code",
   "execution_count": 12,
   "metadata": {
    "collapsed": true
   },
   "outputs": [],
   "source": [
    "hc2.add_filter(\"quantity_value\",\"particle_mass\",\">\",1e14,\"Msun/h\")"
   ]
  },
  {
   "cell_type": "code",
   "execution_count": 13,
   "metadata": {
    "collapsed": false
   },
   "outputs": [
    {
     "name": "stderr",
     "output_type": "stream",
     "text": [
      "yt : [INFO     ] 2017-02-28 12:59:47,120 Saving halo catalog (3 halos) to /var/folders/c8/vqw4f0692sq917vygxcr3gzc0000gn/T/tmpq3t8C2/halo_catalog/halo_catalog.\n",
      "yt : [INFO     ] 2017-02-28 12:59:47,121 Saving field data to yt dataset: /var/folders/c8/vqw4f0692sq917vygxcr3gzc0000gn/T/tmpq3t8C2/halo_catalog/halo_catalog.0.h5.\n"
     ]
    }
   ],
   "source": [
    "hc2.create()"
   ]
  },
  {
   "cell_type": "code",
   "execution_count": 14,
   "metadata": {
    "collapsed": false
   },
   "outputs": [
    {
     "name": "stderr",
     "output_type": "stream",
     "text": [
      "yt : [INFO     ] 2017-02-28 12:59:47,172 Parameters: current_time              = 4.24986071675e+17\n",
      "yt : [INFO     ] 2017-02-28 12:59:47,173 Parameters: domain_dimensions         = [2 2 2]\n",
      "yt : [INFO     ] 2017-02-28 12:59:47,174 Parameters: domain_left_edge          = [ 0.  0.  0.]\n",
      "yt : [INFO     ] 2017-02-28 12:59:47,175 Parameters: domain_right_edge         = [  2.20405545e+26   2.20405545e+26   2.20405545e+26]\n",
      "yt : [INFO     ] 2017-02-28 12:59:47,176 Parameters: cosmological_simulation   = 1\n",
      "yt : [INFO     ] 2017-02-28 12:59:47,177 Parameters: current_redshift          = 0.0\n",
      "yt : [INFO     ] 2017-02-28 12:59:47,178 Parameters: omega_lambda              = 0.699999988079\n",
      "yt : [INFO     ] 2017-02-28 12:59:47,179 Parameters: omega_matter              = 0.300000011921\n",
      "yt : [INFO     ] 2017-02-28 12:59:47,180 Parameters: hubble_constant           = 0.699999988079\n",
      "yt : [INFO     ] 2017-02-28 12:59:47,185 Allocating for 3.000e+00 particles (index particle type 'all')\n",
      "yt : [INFO     ] 2017-02-28 12:59:47,190 Identified 1.000e+00 octs\n"
     ]
    }
   ],
   "source": [
    "halos_ds1 = yt.load(os.path.join(tmpdir,'halo_catalog/halo_catalog.0.h5'))\n",
    "\n",
    "hc_r = HaloCatalog(halos_ds=halos_ds1, \n",
    "                  output_dir=os.path.join(tmpdir,'halo_catalog'))\n",
    "hc_r.load()"
   ]
  },
  {
   "cell_type": "code",
   "execution_count": null,
   "metadata": {
    "collapsed": false
   },
   "outputs": [],
   "source": [
    "p3 = yt.ParticlePlot(ds1,'particle_position_x', 'particle_position_y', 'particle_mass')\n",
    "p3.annotate_halos(hc_r)\n",
    "p3.set_axes_unit('Mpc')\n",
    "p3.set_unit('particle_mass', 'Msun/h')\n"
   ]
  },
  {
   "cell_type": "code",
   "execution_count": 16,
   "metadata": {
    "collapsed": true
   },
   "outputs": [],
   "source": [
    "ad_halos = halos.all_data()"
   ]
  },
  {
   "cell_type": "code",
   "execution_count": 17,
   "metadata": {
    "collapsed": true
   },
   "outputs": [],
   "source": [
    "Halo_mass = ad_halos['halos','particle_mass']"
   ]
  },
  {
   "cell_type": "code",
   "execution_count": 18,
   "metadata": {
    "collapsed": false
   },
   "outputs": [
    {
     "name": "stdout",
     "output_type": "stream",
     "text": [
      "9925960704.0 Msun/h 3.9771836724e+14 Msun/h\n"
     ]
    }
   ],
   "source": [
    "print min(Halo_mass), max(Halo_mass)"
   ]
  },
  {
   "cell_type": "code",
   "execution_count": 19,
   "metadata": {
    "collapsed": false
   },
   "outputs": [
    {
     "name": "stdout",
     "output_type": "stream",
     "text": [
      "3102\n"
     ]
    }
   ],
   "source": [
    "print np.size(Halo_mass)"
   ]
  },
  {
   "cell_type": "code",
   "execution_count": 20,
   "metadata": {
    "collapsed": false
   },
   "outputs": [
    {
     "name": "stdout",
     "output_type": "stream",
     "text": [
      "3.97708441279e+11 Msun/h\n"
     ]
    }
   ],
   "source": [
    "n = max(Halo_mass)/min(Halo_mass)\n",
    "binin = (max(Halo_mass) - min(Halo_mass))/1e3\n",
    "print binin "
   ]
  },
  {
   "cell_type": "code",
   "execution_count": 21,
   "metadata": {
    "collapsed": false
   },
   "outputs": [
    {
     "data": {
      "text/plain": [
       "<matplotlib.text.Text at 0x110573450>"
      ]
     },
     "execution_count": 21,
     "metadata": {},
     "output_type": "execute_result"
    },
    {
     "data": {
      "image/png": "[encoded data removed]",
      "text/plain": [
       "<matplotlib.figure.Figure at 0x112c9f990>"
      ]
     },
     "metadata": {},
     "output_type": "display_data"
    }
   ],
   "source": [
    "n2, bins, patches = plt.hist(Halo_mass, bins = 'auto', histtype='step',log=True) \n",
    "plt.axis([0., 1e12, 0.,1e3])\n",
    "plt.xlabel('Halo Mass (Msun/h)')\n",
    "plt.ylabel('n')\n",
    "plt.title('Histogram for Halo masses lower than 1e12')"
   ]
  },
  {
   "cell_type": "code",
   "execution_count": 22,
   "metadata": {
    "collapsed": false
   },
   "outputs": [
    {
     "data": {
      "text/plain": [
       "<matplotlib.text.Text at 0x126640650>"
      ]
     },
     "execution_count": 22,
     "metadata": {},
     "output_type": "execute_result"
    },
    {
     "data": {
      "image/png": "[encoded data removed]",
      "text/plain": [
       "<matplotlib.figure.Figure at 0x110242cd0>"
      ]
     },
     "metadata": {},
     "output_type": "display_data"
    }
   ],
   "source": [
    "n2, bins, patches = plt.hist(Halo_mass, bins = 'auto', histtype='step',log=True) \n",
    "plt.axis([1e12, 4e14, 0.,1e1])\n",
    "plt.xlabel('Halo Mass (Msun/h)')\n",
    "plt.ylabel('n')\n",
    "plt.title('Histogram for Halo masses greater than 1e12')"
   ]
  },
  {
   "cell_type": "code",
   "execution_count": null,
   "metadata": {
    "collapsed": true
   },
   "outputs": [],
   "source": []
  }
 ],
 "metadata": {
  "kernelspec": {
   "display_name": "Python 2",
   "language": "python",
   "name": "python2"
  },
  "language_info": {
   "codemirror_mode": {
    "name": "ipython",
    "version": 2
   },
   "file_extension": ".py",
   "mimetype": "text/x-python",
   "name": "python",
   "nbconvert_exporter": "python",
   "pygments_lexer": "ipython2",
   "version": "2.7.11"
  }
 },
 "nbformat": 4,
 "nbformat_minor": 0
}
