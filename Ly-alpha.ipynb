{
 "cells": [
  {
   "cell_type": "code",
   "execution_count": 1,
   "metadata": {
    "collapsed": false
   },
   "outputs": [],
   "source": [
    "%matplotlib inline\n",
    "import yt\n",
    "import yt.units as unit\n",
    "import matplotlib.pyplot as plt\n",
    "import numpy as np\n",
    "from yt.analysis_modules.halo_analysis.api import *\n",
    "import seaborn as sb"
   ]
  },
  {
   "cell_type": "code",
   "execution_count": 2,
   "metadata": {
    "collapsed": true
   },
   "outputs": [],
   "source": [
    "sb.set_style(\"white\")"
   ]
  },
  {
   "cell_type": "code",
   "execution_count": 3,
   "metadata": {
    "collapsed": true
   },
   "outputs": [],
   "source": [
    "def boxes(data,n_boxes, z_direction, sim_box = 100.):\n",
    "\n",
    "    box_c = sim_box/n_boxes\n",
    "    \n",
    "    init = box_c/2.\n",
    "    finish = sim_box - box_c/2.\n",
    "    \n",
    "    box_cq = data.quan(box_c, \"code_length\")\n",
    "    \n",
    "    y_centers = np.linspace(init, finish, n_boxes)\n",
    "    x_centers = np.linspace(init, finish, n_boxes)\n",
    "\n",
    "    #create first box\n",
    "    box_grid = []\n",
    "    for i in range(len(x_centers)):\n",
    "        for j in range(len(y_centers)):\n",
    "\n",
    "            center = data.arr([x_centers[i],y_centers[j], z_direction], \"code_length\")\n",
    "            left = center - box_cq/2.\n",
    "            right = center + box_cq/2.\n",
    "\n",
    "            box = data.box(left_edge=left, right_edge=right)\n",
    "            box_grid.append(box)\n",
    "    return box_grid"
   ]
  },
  {
   "cell_type": "code",
   "execution_count": 4,
   "metadata": {
    "collapsed": true
   },
   "outputs": [],
   "source": [
    "#this will be for one z only \n",
    "def density(data, n_boxes, z_direction, sim_box=100.):\n",
    "\n",
    "    box_s = sim_box/n_boxes\n",
    "\n",
    "    grid = boxes(data, n_boxes, z_direction, sim_box)\n",
    "\n",
    "    mass = grid[0][\"particle_mass\"]\n",
    "    mass = mass[0]\n",
    "    vol = box_s**3\n",
    "    vol = data.quan(vol, \"code_length\")\n",
    "\n",
    "    rho = []\n",
    "    for i in range(len(grid)):\n",
    "        np_grid = len(grid[i][\"particle_position\"]) #total number of particles per box\n",
    "        rho.append((np_grid * mass)/vol)\n",
    "    rho = np.array(rho)\n",
    "    rho_mean = np.mean(rho,axis=0)\n",
    "\n",
    "    delta_rho = rho / rho_mean\n",
    "    return delta_rho"
   ]
  },
  {
   "cell_type": "code",
   "execution_count": 5,
   "metadata": {
    "collapsed": true
   },
   "outputs": [],
   "source": [
    "def E(omega_m, omega_de, redshift):\n",
    "    arg = omega_m*(1.0 + redshift)**3 + omega_de\n",
    "    return np.sqrt(arg)"
   ]
  },
  {
   "cell_type": "code",
   "execution_count": 6,
   "metadata": {
    "collapsed": true
   },
   "outputs": [],
   "source": [
    "def tau(d, redshift):\n",
    "    omega_m = 0.308\n",
    "    omega_dm = 0.692\n",
    "    omega_b = 0.0484\n",
    "    \n",
    "    Gamma = 1 #s^-1\n",
    "    T = 1.0 #K\n",
    "    h = 0.678 #\n",
    "    beta = 1.6\n",
    "    \n",
    "    evol = E(omega_m, omega_dm, redshift)\n",
    "    \n",
    "    tau = (1.41 * ((1.0 + redshift)**6) * ((omega_b*h**2)**2) * (d**beta)) / (T * h * evol * Gamma)\n",
    "    \n",
    "    return tau"
   ]
  },
  {
   "cell_type": "code",
   "execution_count": 7,
   "metadata": {
    "collapsed": false
   },
   "outputs": [
    {
     "name": "stderr",
     "output_type": "stream",
     "text": [
      "yt : [INFO     ] 2017-09-08 12:44:45,268 Calculating time from 2.857e-01 to be 8.278e+16 seconds\n",
      "yt : [INFO     ] 2017-09-08 12:44:45,270 Assuming length units are in kpc/h (comoving)\n",
      "yt : [INFO     ] 2017-09-08 12:44:45,314 Parameters: current_time              = 8.27809646585e+16 s\n",
      "yt : [INFO     ] 2017-09-08 12:44:45,314 Parameters: domain_dimensions         = [2 2 2]\n",
      "yt : [INFO     ] 2017-09-08 12:44:45,315 Parameters: domain_left_edge          = [ 0.  0.  0.]\n",
      "yt : [INFO     ] 2017-09-08 12:44:45,317 Parameters: domain_right_edge         = [ 100.  100.  100.]\n",
      "yt : [INFO     ] 2017-09-08 12:44:45,318 Parameters: cosmological_simulation   = 1\n",
      "yt : [INFO     ] 2017-09-08 12:44:45,320 Parameters: current_redshift          = 2.5\n",
      "yt : [INFO     ] 2017-09-08 12:44:45,321 Parameters: omega_lambda              = 0.692\n",
      "yt : [INFO     ] 2017-09-08 12:44:45,322 Parameters: omega_matter              = 0.308\n",
      "yt : [INFO     ] 2017-09-08 12:44:45,323 Parameters: hubble_constant           = 0.678\n"
     ]
    }
   ],
   "source": [
    "ds = yt.GadgetDataset(\"snaps_cola_z2p500.0\")"
   ]
  },
  {
   "cell_type": "code",
   "execution_count": 8,
   "metadata": {
    "collapsed": false
   },
   "outputs": [],
   "source": [
    "data = ds.all_data()"
   ]
  },
  {
   "cell_type": "code",
   "execution_count": 9,
   "metadata": {
    "collapsed": false
   },
   "outputs": [
    {
     "name": "stderr",
     "output_type": "stream",
     "text": [
      "yt : [INFO     ] 2017-09-08 12:44:45,360 Allocating for 1.678e+07 particles (index particle type 'all')\n",
      "yt : [INFO     ] 2017-09-08 12:44:48,485 Identified 1.108e+06 octs\n",
      "yt : [WARNING  ] 2017-09-08 12:44:48,486 Your Gadget-2 file may have extra columns or different precision! (55356448 file vs 64582484 computed)\n",
      "yt : [WARNING  ] 2017-09-08 12:44:48,487 Your Gadget-2 file may have extra columns or different precision! (55317544 file vs 64537096 computed)\n",
      "yt : [WARNING  ] 2017-09-08 12:44:48,488 Your Gadget-2 file may have extra columns or different precision! (46432096 file vs 54170740 computed)\n",
      "yt : [WARNING  ] 2017-09-08 12:44:48,488 Your Gadget-2 file may have extra columns or different precision! (48203632 file vs 56237532 computed)\n",
      "yt : [WARNING  ] 2017-09-08 12:44:48,489 Your Gadget-2 file may have extra columns or different precision! (47232400 file vs 55104428 computed)\n",
      "yt : [WARNING  ] 2017-09-08 12:44:48,490 Your Gadget-2 file may have extra columns or different precision! (47265232 file vs 55142732 computed)\n",
      "yt : [WARNING  ] 2017-09-08 12:44:48,491 Your Gadget-2 file may have extra columns or different precision! (44319976 file vs 51706600 computed)\n",
      "yt : [WARNING  ] 2017-09-08 12:44:48,492 Your Gadget-2 file may have extra columns or different precision! (58528096 file vs 68282740 computed)\n"
     ]
    },
    {
     "name": "stdout",
     "output_type": "stream",
     "text": [
      "[ 284.66409302   98.28153992   21.86691856 ...,  405.84634399  379.15167236\n",
      "  360.73126221] kmcm/s\n"
     ]
    }
   ],
   "source": [
    "print data[\"particle_velocity_x\"].in_units(\"kmcm/s\") * np.sqrt(1.0/3.5)"
   ]
  },
  {
   "cell_type": "code",
   "execution_count": 10,
   "metadata": {
    "collapsed": false
   },
   "outputs": [
    {
     "name": "stdout",
     "output_type": "stream",
     "text": [
      "[ 284.66409302   98.28153992   21.86691856 ...,  405.84634399  379.15167236\n",
      "  360.73126221] code_velocity\n"
     ]
    }
   ],
   "source": [
    "print data[\"particle_velocity_x\"]"
   ]
  },
  {
   "cell_type": "code",
   "execution_count": 11,
   "metadata": {
    "collapsed": false
   },
   "outputs": [
    {
     "name": "stderr",
     "output_type": "stream",
     "text": [
      "/Users/Oleg/Library/Python/2.7/lib/python/site-packages/ipykernel/__main__.py:3: DeprecationWarning: object of type <type 'float'> cannot be safely interpreted as an integer.\n",
      "  app.launch_new_instance()\n"
     ]
    }
   ],
   "source": [
    "n_box = 10.\n",
    "box_size = 100. / n_box\n",
    "z = np.linspace(box_size/2., 100.0 - box_size/2., n_box)"
   ]
  },
  {
   "cell_type": "code",
   "execution_count": 12,
   "metadata": {
    "collapsed": false
   },
   "outputs": [
    {
     "name": "stderr",
     "output_type": "stream",
     "text": [
      "/Users/Oleg/Library/Python/2.7/lib/python/site-packages/ipykernel/__main__.py:10: DeprecationWarning: object of type <type 'float'> cannot be safely interpreted as an integer.\n",
      "/Users/Oleg/Library/Python/2.7/lib/python/site-packages/ipykernel/__main__.py:11: DeprecationWarning: object of type <type 'float'> cannot be safely interpreted as an integer.\n"
     ]
    }
   ],
   "source": [
    "delta_grid = []\n",
    "for i in range(len(z)):\n",
    "    delta_grid.append(density(ds, n_box, z[i]))"
   ]
  },
  {
   "cell_type": "code",
   "execution_count": 13,
   "metadata": {
    "collapsed": false
   },
   "outputs": [
    {
     "name": "stdout",
     "output_type": "stream",
     "text": [
      "(10, 100)\n"
     ]
    }
   ],
   "source": [
    "print np.shape(delta_grid)"
   ]
  },
  {
   "cell_type": "code",
   "execution_count": 14,
   "metadata": {
    "collapsed": true
   },
   "outputs": [],
   "source": [
    "grid_array = np.array(delta_grid)"
   ]
  },
  {
   "cell_type": "code",
   "execution_count": 15,
   "metadata": {
    "collapsed": false
   },
   "outputs": [],
   "source": [
    "grid_array = grid_array.reshape((int(n_box),int(n_box),int(n_box)))"
   ]
  },
  {
   "cell_type": "code",
   "execution_count": 16,
   "metadata": {
    "collapsed": false
   },
   "outputs": [
    {
     "name": "stdout",
     "output_type": "stream",
     "text": [
      "(10, 10, 10)\n"
     ]
    }
   ],
   "source": [
    "print np.shape(grid_array)"
   ]
  },
  {
   "cell_type": "code",
   "execution_count": 17,
   "metadata": {
    "collapsed": true
   },
   "outputs": [],
   "source": [
    "bbox = np.array([[0.,100.],[0.,100.], [0.,100.]])"
   ]
  },
  {
   "cell_type": "code",
   "execution_count": 18,
   "metadata": {
    "collapsed": false
   },
   "outputs": [
    {
     "name": "stderr",
     "output_type": "stream",
     "text": [
      "yt : [INFO     ] 2017-09-08 12:48:01,177 Parameters: current_time              = 0.0\n",
      "yt : [INFO     ] 2017-09-08 12:48:01,178 Parameters: domain_dimensions         = [10 10 10]\n",
      "yt : [INFO     ] 2017-09-08 12:48:01,180 Parameters: domain_left_edge          = [ 0.  0.  0.]\n",
      "yt : [INFO     ] 2017-09-08 12:48:01,181 Parameters: domain_right_edge         = [ 100.  100.  100.]\n",
      "yt : [INFO     ] 2017-09-08 12:48:01,182 Parameters: cosmological_simulation   = 0.0\n"
     ]
    }
   ],
   "source": [
    "data_delta = dict(density = (grid_array, \"code_density\"))\n",
    "ds_delta = yt.load_uniform_grid(data_delta, grid_array.shape, length_unit=\"code_length\",\n",
    "                               bbox = bbox, nprocs = 64)"
   ]
  },
  {
   "cell_type": "code",
   "execution_count": 19,
   "metadata": {
    "collapsed": false
   },
   "outputs": [
    {
     "name": "stderr",
     "output_type": "stream",
     "text": [
      "yt : [INFO     ] 2017-09-08 12:48:01,518 xlim = 0.000000 100.000000\n",
      "yt : [INFO     ] 2017-09-08 12:48:01,519 ylim = 0.000000 100.000000\n",
      "yt : [INFO     ] 2017-09-08 12:48:01,521 xlim = 0.000000 100.000000\n",
      "yt : [INFO     ] 2017-09-08 12:48:01,522 ylim = 0.000000 100.000000\n",
      "yt : [INFO     ] 2017-09-08 12:48:01,524 Making a fixed resolution buffer of (('gas', 'density')) 800 by 800\n"
     ]
    },
    {
     "data": {
      "text/html": [
       "<img style=\"max-width:100%%;max-height:100%%;\" src=\"data:image/png;base64,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\"><br>"
      ],
      "text/plain": [
       "<yt.visualization.plot_window.AxisAlignedSlicePlot at 0x122d3ad50>"
      ]
     },
     "metadata": {},
     "output_type": "display_data"
    }
   ],
   "source": [
    "slc = yt.SlicePlot(ds_delta, \"z\", [\"density\"])\n",
    "slc.set_cmap(\"density\", \"Blues\")\n",
    "slc.annotate_grids(cmap=None)\n",
    "slc.show()"
   ]
  },
  {
   "cell_type": "code",
   "execution_count": 20,
   "metadata": {
    "collapsed": false
   },
   "outputs": [
    {
     "name": "stderr",
     "output_type": "stream",
     "text": [
      "yt : [INFO     ] 2017-09-08 12:48:02,714 Max Value is 2.56339e+00 at 5.0000000000000000 15.0000000000000000 65.0000000000000000\n",
      "yt : [INFO     ] 2017-09-08 12:48:02,733 Min Value is 2.98114e-01 at 45.0000000000000000 55.0000000000000000 35.0000000000000000\n"
     ]
    }
   ],
   "source": [
    "max_den = ds_delta.find_max(\"density\")[1]\n",
    "min_den = ds_delta.find_min(\"density\")[1]"
   ]
  },
  {
   "cell_type": "code",
   "execution_count": 21,
   "metadata": {
    "collapsed": false
   },
   "outputs": [],
   "source": [
    "ray1 = ds_delta.ortho_ray(2, (max_den[0], max_den[1]))\n"
   ]
  },
  {
   "cell_type": "code",
   "execution_count": 22,
   "metadata": {
    "collapsed": true
   },
   "outputs": [],
   "source": [
    "srt1 = np.argsort(ray1['z'])\n"
   ]
  },
  {
   "cell_type": "code",
   "execution_count": 23,
   "metadata": {
    "collapsed": false
   },
   "outputs": [
    {
     "data": {
      "image/png": "[encoded data removed]",
      "text/plain": [
       "<matplotlib.figure.Figure at 0x112470590>"
      ]
     },
     "metadata": {},
     "output_type": "display_data"
    }
   ],
   "source": [
    "plt.plot(np.array(ray1['z'][srt1]), np.array(ray1['density'][srt1]));\n",
    "plt.ylabel(r\"$\\Delta$\");"
   ]
  },
  {
   "cell_type": "code",
   "execution_count": 24,
   "metadata": {
    "collapsed": false
   },
   "outputs": [
    {
     "name": "stdout",
     "output_type": "stream",
     "text": [
      "[ 0.80543021  1.4252407   0.96991216  1.16477245  0.67080682  0.97158701\n",
      "  2.56338879  0.6150747   0.49899018  0.9680063 ] g/cm**3\n"
     ]
    }
   ],
   "source": [
    "print ray1['density'][srt1]"
   ]
  },
  {
   "cell_type": "code",
   "execution_count": 25,
   "metadata": {
    "collapsed": true
   },
   "outputs": [],
   "source": [
    "small_delta = np.array(ray1['density'][srt1])"
   ]
  },
  {
   "cell_type": "code",
   "execution_count": 26,
   "metadata": {
    "collapsed": true
   },
   "outputs": [],
   "source": [
    "optic_depth = tau(small_delta, 2.5)"
   ]
  },
  {
   "cell_type": "code",
   "execution_count": 27,
   "metadata": {
    "collapsed": false
   },
   "outputs": [
    {
     "data": {
      "image/png": "[encoded data removed]",
      "text/plain": [
       "<matplotlib.figure.Figure at 0x122d3ac50>"
      ]
     },
     "metadata": {},
     "output_type": "display_data"
    }
   ],
   "source": [
    "plt.plot(optic_depth);\n",
    "plt.ylabel(\"optical depth\");"
   ]
  },
  {
   "cell_type": "code",
   "execution_count": 28,
   "metadata": {
    "collapsed": true
   },
   "outputs": [],
   "source": [
    "F = np.exp(-1.0 * optic_depth)"
   ]
  },
  {
   "cell_type": "code",
   "execution_count": 29,
   "metadata": {
    "collapsed": false
   },
   "outputs": [
    {
     "data": {
      "image/png": "[encoded data removed]",
      "text/plain": [
       "<matplotlib.figure.Figure at 0x1137a7c90>"
      ]
     },
     "metadata": {},
     "output_type": "display_data"
    }
   ],
   "source": [
    "plt.plot(F);\n",
    "plt.ylabel(\"F\");"
   ]
  },
  {
   "cell_type": "code",
   "execution_count": 30,
   "metadata": {
    "collapsed": false
   },
   "outputs": [
    {
     "name": "stdout",
     "output_type": "stream",
     "text": [
      "(10, 100)\n"
     ]
    }
   ],
   "source": [
    "print np.shape(delta_grid)"
   ]
  },
  {
   "cell_type": "code",
   "execution_count": 31,
   "metadata": {
    "collapsed": false
   },
   "outputs": [
    {
     "name": "stdout",
     "output_type": "stream",
     "text": [
      "(100,)\n"
     ]
    }
   ],
   "source": [
    "print np.shape(delta_grid[1])"
   ]
  },
  {
   "cell_type": "code",
   "execution_count": 32,
   "metadata": {
    "collapsed": false
   },
   "outputs": [
    {
     "data": {
      "image/png": "[encoded data removed]",
      "text/plain": [
       "<matplotlib.figure.Figure at 0x113ab2c50>"
      ]
     },
     "metadata": {},
     "output_type": "display_data"
    }
   ],
   "source": [
    "for i in range(10):\n",
    "    plt.hist(delta_grid[i],bins=50);\n",
    "plt.show()"
   ]
  },
  {
   "cell_type": "markdown",
   "metadata": {
    "collapsed": true
   },
   "source": [
    "np.savetxt(\"density_grid_100mpc.dat\",delta_grid)"
   ]
  },
  {
   "cell_type": "markdown",
   "metadata": {},
   "source": [
    "create a new grid_dict with the velocities"
   ]
  },
  {
   "cell_type": "code",
   "execution_count": 33,
   "metadata": {
    "collapsed": true
   },
   "outputs": [],
   "source": [
    "def velocity(data, n_boxes, z_direction, sim_box=100.):\n",
    "\n",
    "    \n",
    "    box_c = sim_box/n_boxes\n",
    "    \n",
    "    init = box_c/2.\n",
    "    finish = sim_box - box_c/2.\n",
    "    \n",
    "    box_cq = data.quan(box_c, \"code_length\")\n",
    "    \n",
    "    y_centers = np.linspace(init, finish, n_boxes)\n",
    "    x_centers = np.linspace(init, finish, n_boxes)\n",
    "\n",
    "    #create first box\n",
    "    box_grid = []\n",
    "    for i in range(len(x_centers)):\n",
    "        for j in range(len(y_centers)):\n",
    "\n",
    "            center = data.arr([x_centers[i],y_centers[j], z_direction], \"code_length\")\n",
    "            left = center - box_cq/2.\n",
    "            right = center + box_cq/2.\n",
    "\n",
    "            box = data.box(left_edge=left, right_edge=right)\n",
    "            vel_z = np.mean(box[\"particle_velocity_z\"])\n",
    "            #vel = box.quantities.bulk_velocity(use_gas=False, use_particles=True)\n",
    "            box_grid.append(vel_z)\n",
    "    return box_grid"
   ]
  },
  {
   "cell_type": "code",
   "execution_count": 34,
   "metadata": {
    "collapsed": false
   },
   "outputs": [
    {
     "name": "stderr",
     "output_type": "stream",
     "text": [
      "/Users/Oleg/Library/Python/2.7/lib/python/site-packages/ipykernel/__main__.py:11: DeprecationWarning: object of type <type 'float'> cannot be safely interpreted as an integer.\n",
      "/Users/Oleg/Library/Python/2.7/lib/python/site-packages/ipykernel/__main__.py:12: DeprecationWarning: object of type <type 'float'> cannot be safely interpreted as an integer.\n"
     ]
    }
   ],
   "source": [
    "velocity_grid = []\n",
    "for i in range(len(z)):\n",
    "    val = velocity(ds, n_box, z[i])\n",
    "    velocity_grid.append(val)"
   ]
  },
  {
   "cell_type": "code",
   "execution_count": 35,
   "metadata": {
    "collapsed": false
   },
   "outputs": [
    {
     "name": "stdout",
     "output_type": "stream",
     "text": [
      "(10, 100)\n"
     ]
    }
   ],
   "source": [
    "print np.shape(velocity_grid)"
   ]
  },
  {
   "cell_type": "code",
   "execution_count": 36,
   "metadata": {
    "collapsed": false
   },
   "outputs": [
    {
     "name": "stdout",
     "output_type": "stream",
     "text": [
      "10\n"
     ]
    }
   ],
   "source": [
    "print len(z)"
   ]
  },
  {
   "cell_type": "code",
   "execution_count": 37,
   "metadata": {
    "collapsed": true
   },
   "outputs": [],
   "source": [
    "np.savetxt(\"velocity_grid.dat\",velocity_grid)"
   ]
  },
  {
   "cell_type": "code",
   "execution_count": 38,
   "metadata": {
    "collapsed": true
   },
   "outputs": [],
   "source": [
    "velocity_array = np.array(velocity_grid)"
   ]
  },
  {
   "cell_type": "code",
   "execution_count": 39,
   "metadata": {
    "collapsed": true
   },
   "outputs": [],
   "source": [
    "velocity_array = velocity_array.reshape((int(n_box),int(n_box),int(n_box)))"
   ]
  },
  {
   "cell_type": "code",
   "execution_count": 40,
   "metadata": {
    "collapsed": false
   },
   "outputs": [
    {
     "name": "stderr",
     "output_type": "stream",
     "text": [
      "yt : [INFO     ] 2017-09-08 12:51:13,512 Parameters: current_time              = 0.0\n",
      "yt : [INFO     ] 2017-09-08 12:51:13,515 Parameters: domain_dimensions         = [10 10 10]\n",
      "yt : [INFO     ] 2017-09-08 12:51:13,517 Parameters: domain_left_edge          = [ 0.  0.  0.]\n",
      "yt : [INFO     ] 2017-09-08 12:51:13,520 Parameters: domain_right_edge         = [ 100.  100.  100.]\n",
      "yt : [INFO     ] 2017-09-08 12:51:13,523 Parameters: cosmological_simulation   = 0.0\n"
     ]
    }
   ],
   "source": [
    "data_dv = dict(density = (grid_array, \"code_density\"),\n",
    "              velocity_z = (velocity_array,\"code_velocity\"))\n",
    "ds_dv = yt.load_uniform_grid(data_dv, grid_array.shape, length_unit=\"code_length\",\n",
    "                             velocity_unit=\"code_velocity\",bbox = bbox, nprocs = 2)"
   ]
  },
  {
   "cell_type": "code",
   "execution_count": 41,
   "metadata": {
    "collapsed": true
   },
   "outputs": [],
   "source": [
    "ray2 = ds_dv.ortho_ray(2, (max_den[0], max_den[1]))\n",
    "srt2 = np.argsort(ray2['z'])"
   ]
  },
  {
   "cell_type": "code",
   "execution_count": 42,
   "metadata": {
    "collapsed": false
   },
   "outputs": [
    {
     "data": {
      "text/plain": [
       "<matplotlib.text.Text at 0x120b52d90>"
      ]
     },
     "execution_count": 42,
     "metadata": {},
     "output_type": "execute_result"
    },
    {
     "data": {
      "image/png": "[encoded data removed]",
      "text/plain": [
       "<matplotlib.figure.Figure at 0x113ad27d0>"
      ]
     },
     "metadata": {},
     "output_type": "display_data"
    }
   ],
   "source": [
    "plt.plot(np.array(ray2['z'][srt1]), np.array(ray2['density'][srt1]));\n",
    "plt.ylabel(r\"$\\Delta$\")"
   ]
  },
  {
   "cell_type": "code",
   "execution_count": 55,
   "metadata": {
    "collapsed": false
   },
   "outputs": [
    {
     "data": {
      "image/png": "[encoded data removed]",
      "text/plain": [
       "<matplotlib.figure.Figure at 0x11279ba10>"
      ]
     },
     "metadata": {},
     "output_type": "display_data"
    }
   ],
   "source": [
    "plt.plot(np.array(ray2['z'][srt1]), np.array(ray2['velocity_z'][srt1])*(3.5/100.));\n",
    "plt.ylabel(\"velocity\");"
   ]
  },
  {
   "cell_type": "code",
   "execution_count": 44,
   "metadata": {
    "collapsed": false
   },
   "outputs": [],
   "source": [
    "data_dv = ds_dv.all_data()"
   ]
  },
  {
   "cell_type": "code",
   "execution_count": 45,
   "metadata": {
    "collapsed": false
   },
   "outputs": [
    {
     "name": "stdout",
     "output_type": "stream",
     "text": [
      "(1000,)\n"
     ]
    }
   ],
   "source": [
    "print np.shape(data_dv[\"density\"])"
   ]
  },
  {
   "cell_type": "code",
   "execution_count": 46,
   "metadata": {
    "collapsed": false
   },
   "outputs": [
    {
     "name": "stderr",
     "output_type": "stream",
     "text": [
      "/Users/Oleg/Library/Python/2.7/lib/python/site-packages/ipykernel/__main__.py:10: DeprecationWarning: object of type <type 'float'> cannot be safely interpreted as an integer.\n",
      "/Users/Oleg/Library/Python/2.7/lib/python/site-packages/ipykernel/__main__.py:11: DeprecationWarning: object of type <type 'float'> cannot be safely interpreted as an integer.\n"
     ]
    }
   ],
   "source": [
    "gamma = 0.4 / 0.7\n",
    "temp_grid = []\n",
    "for i in range(len(z)):\n",
    "    T = density(ds, n_box, z[i])**gamma\n",
    "    temp_grid.append(T)"
   ]
  },
  {
   "cell_type": "code",
   "execution_count": 47,
   "metadata": {
    "collapsed": false
   },
   "outputs": [
    {
     "name": "stdout",
     "output_type": "stream",
     "text": [
      "(10, 100)\n"
     ]
    }
   ],
   "source": [
    "print np.shape(temp_grid)"
   ]
  },
  {
   "cell_type": "markdown",
   "metadata": {},
   "source": [
    "np.savetxt(\"temperatur.dat\",temp_grid)"
   ]
  },
  {
   "cell_type": "code",
   "execution_count": 48,
   "metadata": {
    "collapsed": true
   },
   "outputs": [],
   "source": [
    "temp_array = np.array(temp_grid)"
   ]
  },
  {
   "cell_type": "code",
   "execution_count": 49,
   "metadata": {
    "collapsed": false
   },
   "outputs": [],
   "source": [
    "temp_array = temp_array.reshape((int(n_box),int(n_box),int(n_box)))"
   ]
  },
  {
   "cell_type": "code",
   "execution_count": 50,
   "metadata": {
    "collapsed": false
   },
   "outputs": [
    {
     "name": "stderr",
     "output_type": "stream",
     "text": [
      "yt : [INFO     ] 2017-09-08 12:54:36,663 Parameters: current_time              = 0.0\n",
      "yt : [INFO     ] 2017-09-08 12:54:36,664 Parameters: domain_dimensions         = [10 10 10]\n",
      "yt : [INFO     ] 2017-09-08 12:54:36,666 Parameters: domain_left_edge          = [ 0.  0.  0.]\n",
      "yt : [INFO     ] 2017-09-08 12:54:36,669 Parameters: domain_right_edge         = [ 100.  100.  100.]\n",
      "yt : [INFO     ] 2017-09-08 12:54:36,672 Parameters: cosmological_simulation   = 0.0\n"
     ]
    }
   ],
   "source": [
    "data_dvt = dict(density = (grid_array, \"code_density\"),\n",
    "              velocity_z = (velocity_array,\"code_velocity\"),\n",
    "               temperature = (temp_array, \"code_temperature\"))\n",
    "ds_dvt = yt.load_uniform_grid(data_dvt, grid_array.shape, length_unit=\"code_length\",\n",
    "                             velocity_unit=\"code_velocity\",bbox = bbox, nprocs = 3)"
   ]
  },
  {
   "cell_type": "code",
   "execution_count": 51,
   "metadata": {
    "collapsed": true
   },
   "outputs": [],
   "source": [
    "ray3 = ds_dvt.ortho_ray(2, (max_den[0], max_den[1]))"
   ]
  },
  {
   "cell_type": "code",
   "execution_count": 52,
   "metadata": {
    "collapsed": true
   },
   "outputs": [],
   "source": [
    "srt3 = np.argsort(ray3['z'])"
   ]
  },
  {
   "cell_type": "code",
   "execution_count": 53,
   "metadata": {
    "collapsed": false
   },
   "outputs": [
    {
     "data": {
      "image/png": "[encoded data removed]",
      "text/plain": [
       "<matplotlib.figure.Figure at 0x1137e9990>"
      ]
     },
     "metadata": {},
     "output_type": "display_data"
    }
   ],
   "source": [
    "plt.plot(np.array(ray3['z'][srt3]), np.array(ray3['temperature'][srt3]));\n",
    "plt.ylabel(\"temperature\");"
   ]
  },
  {
   "cell_type": "code",
   "execution_count": null,
   "metadata": {
    "collapsed": true
   },
   "outputs": [],
   "source": []
  }
 ],
 "metadata": {
  "kernelspec": {
   "display_name": "Python 2",
   "language": "python",
   "name": "python2"
  },
  "language_info": {
   "codemirror_mode": {
    "name": "ipython",
    "version": 2
   },
   "file_extension": ".py",
   "mimetype": "text/x-python",
   "name": "python",
   "nbconvert_exporter": "python",
   "pygments_lexer": "ipython2",
   "version": "2.7.10"
  }
 },
 "nbformat": 4,
 "nbformat_minor": 1
}
